{
 "cells": [
  {
   "cell_type": "code",
   "execution_count": 4,
   "metadata": {},
   "outputs": [],
   "source": [
    "from splinter import Browser\n",
    "from bs4 import BeautifulSoup as bs\n",
    "from webdriver_manager.chrome import ChromeDriverManager\n",
    "import time"
   ]
  },
  {
   "cell_type": "code",
   "execution_count": 121,
   "metadata": {},
   "outputs": [
    {
     "name": "stderr",
     "output_type": "stream",
     "text": [
      "[WDM] - Current google-chrome version is 89.0.4389\n",
      "[WDM] - Get LATEST driver version for 89.0.4389\n",
      "[WDM] - Driver [C:\\Users\\Intel NUC\\.wdm\\drivers\\chromedriver\\win32\\89.0.4389.23\\chromedriver.exe] found in cache\n"
     ]
    },
    {
     "name": "stdout",
     "output_type": "stream",
     "text": [
      " \n"
     ]
    }
   ],
   "source": [
    "executable_path = {\"executable_path\": ChromeDriverManager().install()}\n",
    "browser = Browser(\"chrome\", **executable_path, headless=False)\n",
    "\n",
    "url = 'https://www.inmuebles24.com/casas-o-desarrollo-vertical-o-desarrollo-horizontal-vertical-o-desarrollo-horizontal-o-duplex-o-casa-uso-de-suelo-o-casa-en-condominio-o-departamentos-en-venta-en-distrito-federal-q-ciudad-de-mexico.html#'\n",
    "\n",
    "browser.visit(url)\n",
    "\n",
    "browser.is_element_not_present_by_id('list-card-container', wait_time=2)\n",
    "\n",
    "html = browser.html\n",
    "\n",
    "soup = bs(html, \"html.parser\")"
   ]
  },
  {
   "cell_type": "code",
   "execution_count": 122,
   "metadata": {},
   "outputs": [
    {
     "data": {
      "text/plain": [
       "24"
      ]
     },
     "execution_count": 122,
     "metadata": {},
     "output_type": "execute_result"
    }
   ],
   "source": [
    "len(soup.find_all(\"div\", class_ = \"postingCard\"))"
   ]
  },
  {
   "cell_type": "code",
   "execution_count": 125,
   "metadata": {},
   "outputs": [
    {
     "name": "stdout",
     "output_type": "stream",
     "text": [
      "id: 52913725 , https://www.inmuebles24.com/propiedades/bosque-6060-52913725.html , 11312978\n",
      "id: 54456938 , https://www.inmuebles24.com/propiedades/sky-tower-lindavista-54456938.html , 3210000\n",
      "id: 55534814 , https://www.inmuebles24.com/propiedades/ultimo-departamento-departamento-en-venta-tlalpan-55534814.html , 7950000\n",
      "id: 60679141 , https://www.inmuebles24.com/propiedades/chicle-160-60679141.html , 2052000\n",
      "id: 56515561 , https://www.inmuebles24.com/propiedades/up-santa-fe-56515561.html , 3701095\n",
      "id: 60405953 , https://www.inmuebles24.com/propiedades/departamento-en-lisboa-ciudad-de-mexico-60405953.html , 5500000\n",
      "id: 60859941 , https://www.inmuebles24.com/propiedades/departamento-en-pennsylvania-ciudad-de-mexico-60859941.html , 4480000\n",
      "id: 60732379 , https://www.inmuebles24.com/propiedades/departamento-en-progreso-ciudad-de-mexico-60732379.html , 3650000\n",
      "id: 60716573 , https://www.inmuebles24.com/propiedades/departamento-en-tanana-ciudad-de-mexico-60716573.html , 3650000\n",
      "id: 60438499 , https://www.inmuebles24.com/propiedades/venta-departamento-en-tlalpan-ciudad-de-mexico-60438499.html , 2650000\n",
      "id: 60378003 , https://www.inmuebles24.com/propiedades/venta-de-departamento-en-polanco-ciudad-de-mexico-60378003.html , 13260000\n",
      "id: 55070344 , https://www.inmuebles24.com/propiedades/se-vende-departamento-en-lomas-ciudad-de-mexico-55070344.html , 11290000\n",
      "id: 60459427 , https://www.inmuebles24.com/propiedades/casa-en-condominio-en-lomas-hidalgo-tlalpan-ciudad-60459427.html , 4629000\n",
      "id: 60006486 , https://www.inmuebles24.com/propiedades/departamento-en-venta-en-la-colonia-del-valle-ciudad-60006486.html , 4300000\n",
      "id: 60924386 , https://www.inmuebles24.com/propiedades/venta-casa-pedregal-alvaro-obregon-ciudad-de-mexico-60924386.html , 32900000\n",
      "id: 60895016 , https://www.inmuebles24.com/propiedades/magnifica-casa-en-una-de-las-mejores-colonias-de-la-60895016.html , USD 5500000\n",
      "id: 59640093 , https://www.inmuebles24.com/propiedades/departamento-en-venta-en-una-de-las-mejores-colonias-59640093.html , 12499000\n",
      "id: 60806063 , https://www.inmuebles24.com/propiedades/departamentos-en-venta-en-calle-amores-ciudad-de-60806063.html , 4844237\n",
      "id: 60805936 , https://www.inmuebles24.com/propiedades/departamento-en-venta-en-benito-juarez-ciudad-de-60805936.html , 1417500\n",
      "id: 60796327 , https://www.inmuebles24.com/propiedades/departamento-en-venta-guadalupe-tlalpan-ciudad-de-60796327.html , 4280000\n",
      "id: 60722394 , https://www.inmuebles24.com/propiedades/departamento-en-venta-masaryk-polanco-ciudad-de-60722394.html , 7200000\n",
      "id: 59312087 , https://www.inmuebles24.com/propiedades/departamento-nuevo-en-venta-al-sur-en-la-ciudad-de-59312087.html , 2390000\n",
      "id: 60376264 , https://www.inmuebles24.com/propiedades/departamento-en-tomas-alva-edison-ciudad-de-mexico-60376264.html , 2900000\n",
      "id: 55875877 , https://www.inmuebles24.com/propiedades/vendo-casa-en-lomas-de-chapultepec-ciudad-de-mexico-55875877.html , 61400000\n"
     ]
    }
   ],
   "source": [
    "publications_list = soup.find_all(\"div\", class_ = \"postingCard\")\n",
    "\n",
    "hyperlink_list = []\n",
    "\n",
    "for x in range(len(publications_list)):\n",
    "    \n",
    "    property_id = publications_list[x][\"data-id\"]\n",
    "    \n",
    "    hyperlink = f'https://www.inmuebles24.com{publications_list[x][\"data-to-posting\"]}'\n",
    "    \n",
    "    hyperlink_list.append(hyperlink)\n",
    "    \n",
    "#     SUB_SOUP\n",
    "    \n",
    "    test_soup = publications_list[x]\n",
    "    property_price = test_soup.find_all(\"span\", class_ = \"firstPrice\")[0].get_text(strip=True).replace('MN ', '').replace(',', '')\n",
    "    \n",
    "    print(f'id: {property_id} , {hyperlink} , {property_price}')"
   ]
  },
  {
   "cell_type": "code",
   "execution_count": 124,
   "metadata": {},
   "outputs": [
    {
     "data": {
      "text/plain": [
       "'11312978'"
      ]
     },
     "execution_count": 124,
     "metadata": {},
     "output_type": "execute_result"
    }
   ],
   "source": [
    "test_soup = publications_list[0]\n",
    "test_soup.find_all(\"span\", class_ = \"firstPrice\")[0].get_text(strip=True).replace('MN ', '').replace(',', '')"
   ]
  },
  {
   "cell_type": "code",
   "execution_count": 68,
   "metadata": {},
   "outputs": [
    {
     "data": {
      "text/plain": [
       "'https://www.inmuebles24.com/propiedades/bosque-6060-52913725.html'"
      ]
     },
     "execution_count": 68,
     "metadata": {},
     "output_type": "execute_result"
    }
   ],
   "source": [
    "test_property_hyperlink = f'https://www.inmuebles24.com{publications_list[0][\"data-to-posting\"]}'\n",
    "test_property_hyperlink"
   ]
  },
  {
   "cell_type": "markdown",
   "metadata": {},
   "source": [
    "## Scrape of each webpage"
   ]
  },
  {
   "cell_type": "code",
   "execution_count": 116,
   "metadata": {},
   "outputs": [
    {
     "name": "stdout",
     "output_type": "stream",
     "text": [
      "https://www.inmuebles24.com/propiedades/bosque-6060-52913725.html\n",
      "19.331155400000000 -99.256939199999980\n",
      "https://www.inmuebles24.com/propiedades/sky-tower-lindavista-54456938.html\n",
      "19.481846100000000 -99.129833500000020\n",
      "https://www.inmuebles24.com/propiedades/ultimo-departamento-departamento-en-venta-tlalpan-55534814.html\n",
      "19.279131400000000 -99.140570900000000\n"
     ]
    }
   ],
   "source": [
    "import time\n",
    "\n",
    "image_details_coordinates_list = []\n",
    "latitud_list = []\n",
    "longitud_list = []\n",
    "\n",
    "count_number = 0\n",
    "\n",
    "for x in range(3):\n",
    "    \n",
    "    count_number += 1\n",
    "\n",
    "    url = hyperlink_list[x]\n",
    "\n",
    "    browser.visit(url)\n",
    "\n",
    "    time.sleep(1)\n",
    "\n",
    "    html = browser.html\n",
    "\n",
    "    soup = bs(html, \"html.parser\")\n",
    "    map_image = soup.find('div', class_ = 'article-map')\n",
    "\n",
    "    image_details = map_image.img['src'].split(\"&\")\n",
    "\n",
    "    print(hyperlink_list[x])\n",
    "    \n",
    "    for x in range(len(image_details)):\n",
    "        if 'markers' in image_details[x]:\n",
    "            image_details_coordinates = image_details[x].replace('markers=', '').split(\",\")\n",
    "            image_details_coordinates_list.append(image_details_coordinates)\n",
    "            \n",
    "            latitud = image_details_coordinates[0]\n",
    "            longitud = image_details_coordinates[1]            \n",
    "            latitud_list.append(latitud)\n",
    "            longitud_list.append(longitud)\n",
    "                        \n",
    "    if len(image_details_coordinates_list) != count_number:\n",
    "        for x in range(len(image_details)):\n",
    "            if 'center' in image_details[x]:\n",
    "                image_details_coordinates = image_details[x].replace('center=', '').split(\",\")\n",
    "                image_details_coordinates_list.append(image_details_coordinates)\n",
    "\n",
    "                latitud = image_details_coordinates[0].split(\"?\")[1]\n",
    "                longitud = image_details_coordinates[1]            \n",
    "                latitud_list.append(latitud)\n",
    "                longitud_list.append(longitud)\n",
    "\n",
    "    print(latitud, longitud)"
   ]
  },
  {
   "cell_type": "code",
   "execution_count": 126,
   "metadata": {},
   "outputs": [],
   "source": [
    "browser.quit()"
   ]
  }
 ],
 "metadata": {
  "kernelspec": {
   "display_name": "Python 3",
   "language": "python",
   "name": "python3"
  },
  "language_info": {
   "codemirror_mode": {
    "name": "ipython",
    "version": 3
   },
   "file_extension": ".py",
   "mimetype": "text/x-python",
   "name": "python",
   "nbconvert_exporter": "python",
   "pygments_lexer": "ipython3",
   "version": "3.8.3"
  }
 },
 "nbformat": 4,
 "nbformat_minor": 4
}
