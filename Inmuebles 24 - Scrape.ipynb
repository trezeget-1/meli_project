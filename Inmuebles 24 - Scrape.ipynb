{
 "cells": [
  {
   "cell_type": "code",
   "execution_count": 217,
   "metadata": {},
   "outputs": [],
   "source": [
    "from splinter import Browser\n",
    "from bs4 import BeautifulSoup as bs\n",
    "from webdriver_manager.chrome import ChromeDriverManager\n",
    "import time\n",
    "import math\n",
    "import pandas as pd"
   ]
  },
  {
   "cell_type": "markdown",
   "metadata": {},
   "source": [
    "### CASA QUERY"
   ]
  },
  {
   "cell_type": "code",
   "execution_count": 140,
   "metadata": {},
   "outputs": [
    {
     "data": {
      "text/plain": [
       "'https://www.inmuebles24.com/casas-o-duplex-o-casa-en-condominio-o-casa-uso-de-suelo-o-desarrollo-horizontal-en-venta-en-distrito-federal-q-ciudad-de-mexico.html'"
      ]
     },
     "execution_count": 140,
     "metadata": {},
     "output_type": "execute_result"
    }
   ],
   "source": [
    "# CASA QUERY:\n",
    "\n",
    "url = 'https://www.inmuebles24.com/casas-o-duplex-o-casa-en-condominio-o-casa-uso-de-suelo-o-desarrollo-horizontal-en-venta-en-distrito-federal-q-ciudad-de-mexico.html'\n",
    "url"
   ]
  },
  {
   "cell_type": "code",
   "execution_count": 197,
   "metadata": {
    "collapsed": true
   },
   "outputs": [
    {
     "name": "stdout",
     "output_type": "stream",
     "text": [
      "https://www.inmuebles24.com/casas-o-desarrollo-horizontal-o-duplex-o-casa-uso-de-suelo-o-casa-en-condominio-en-venta-en-distrito-federal-pagina-2-q-ciudad-de-mexico.html\n",
      "https://www.inmuebles24.com/casas-o-desarrollo-horizontal-o-duplex-o-casa-uso-de-suelo-o-casa-en-condominio-en-venta-en-distrito-federal-pagina-3-q-ciudad-de-mexico.html\n",
      "https://www.inmuebles24.com/casas-o-desarrollo-horizontal-o-duplex-o-casa-uso-de-suelo-o-casa-en-condominio-en-venta-en-distrito-federal-pagina-4-q-ciudad-de-mexico.html\n",
      "https://www.inmuebles24.com/casas-o-desarrollo-horizontal-o-duplex-o-casa-uso-de-suelo-o-casa-en-condominio-en-venta-en-distrito-federal-pagina-5-q-ciudad-de-mexico.html\n",
      "https://www.inmuebles24.com/casas-o-desarrollo-horizontal-o-duplex-o-casa-uso-de-suelo-o-casa-en-condominio-en-venta-en-distrito-federal-pagina-6-q-ciudad-de-mexico.html\n",
      "https://www.inmuebles24.com/casas-o-desarrollo-horizontal-o-duplex-o-casa-uso-de-suelo-o-casa-en-condominio-en-venta-en-distrito-federal-pagina-7-q-ciudad-de-mexico.html\n",
      "https://www.inmuebles24.com/casas-o-desarrollo-horizontal-o-duplex-o-casa-uso-de-suelo-o-casa-en-condominio-en-venta-en-distrito-federal-pagina-8-q-ciudad-de-mexico.html\n",
      "https://www.inmuebles24.com/casas-o-desarrollo-horizontal-o-duplex-o-casa-uso-de-suelo-o-casa-en-condominio-en-venta-en-distrito-federal-pagina-9-q-ciudad-de-mexico.html\n",
      "https://www.inmuebles24.com/casas-o-desarrollo-horizontal-o-duplex-o-casa-uso-de-suelo-o-casa-en-condominio-en-venta-en-distrito-federal-pagina-10-q-ciudad-de-mexico.html\n",
      "https://www.inmuebles24.com/casas-o-desarrollo-horizontal-o-duplex-o-casa-uso-de-suelo-o-casa-en-condominio-en-venta-en-distrito-federal-pagina-11-q-ciudad-de-mexico.html\n",
      "https://www.inmuebles24.com/casas-o-desarrollo-horizontal-o-duplex-o-casa-uso-de-suelo-o-casa-en-condominio-en-venta-en-distrito-federal-pagina-12-q-ciudad-de-mexico.html\n",
      "https://www.inmuebles24.com/casas-o-desarrollo-horizontal-o-duplex-o-casa-uso-de-suelo-o-casa-en-condominio-en-venta-en-distrito-federal-pagina-13-q-ciudad-de-mexico.html\n",
      "https://www.inmuebles24.com/casas-o-desarrollo-horizontal-o-duplex-o-casa-uso-de-suelo-o-casa-en-condominio-en-venta-en-distrito-federal-pagina-14-q-ciudad-de-mexico.html\n",
      "https://www.inmuebles24.com/casas-o-desarrollo-horizontal-o-duplex-o-casa-uso-de-suelo-o-casa-en-condominio-en-venta-en-distrito-federal-pagina-15-q-ciudad-de-mexico.html\n",
      "https://www.inmuebles24.com/casas-o-desarrollo-horizontal-o-duplex-o-casa-uso-de-suelo-o-casa-en-condominio-en-venta-en-distrito-federal-pagina-16-q-ciudad-de-mexico.html\n",
      "https://www.inmuebles24.com/casas-o-desarrollo-horizontal-o-duplex-o-casa-uso-de-suelo-o-casa-en-condominio-en-venta-en-distrito-federal-pagina-17-q-ciudad-de-mexico.html\n",
      "https://www.inmuebles24.com/casas-o-desarrollo-horizontal-o-duplex-o-casa-uso-de-suelo-o-casa-en-condominio-en-venta-en-distrito-federal-pagina-18-q-ciudad-de-mexico.html\n",
      "https://www.inmuebles24.com/casas-o-desarrollo-horizontal-o-duplex-o-casa-uso-de-suelo-o-casa-en-condominio-en-venta-en-distrito-federal-pagina-19-q-ciudad-de-mexico.html\n",
      "https://www.inmuebles24.com/casas-o-desarrollo-horizontal-o-duplex-o-casa-uso-de-suelo-o-casa-en-condominio-en-venta-en-distrito-federal-pagina-20-q-ciudad-de-mexico.html\n",
      "https://www.inmuebles24.com/casas-o-desarrollo-horizontal-o-duplex-o-casa-uso-de-suelo-o-casa-en-condominio-en-venta-en-distrito-federal-pagina-21-q-ciudad-de-mexico.html\n",
      "https://www.inmuebles24.com/casas-o-desarrollo-horizontal-o-duplex-o-casa-uso-de-suelo-o-casa-en-condominio-en-venta-en-distrito-federal-pagina-22-q-ciudad-de-mexico.html\n",
      "https://www.inmuebles24.com/casas-o-desarrollo-horizontal-o-duplex-o-casa-uso-de-suelo-o-casa-en-condominio-en-venta-en-distrito-federal-pagina-23-q-ciudad-de-mexico.html\n",
      "https://www.inmuebles24.com/casas-o-desarrollo-horizontal-o-duplex-o-casa-uso-de-suelo-o-casa-en-condominio-en-venta-en-distrito-federal-pagina-24-q-ciudad-de-mexico.html\n",
      "https://www.inmuebles24.com/casas-o-desarrollo-horizontal-o-duplex-o-casa-uso-de-suelo-o-casa-en-condominio-en-venta-en-distrito-federal-pagina-25-q-ciudad-de-mexico.html\n",
      "https://www.inmuebles24.com/casas-o-desarrollo-horizontal-o-duplex-o-casa-uso-de-suelo-o-casa-en-condominio-en-venta-en-distrito-federal-pagina-26-q-ciudad-de-mexico.html\n",
      "https://www.inmuebles24.com/casas-o-desarrollo-horizontal-o-duplex-o-casa-uso-de-suelo-o-casa-en-condominio-en-venta-en-distrito-federal-pagina-27-q-ciudad-de-mexico.html\n",
      "https://www.inmuebles24.com/casas-o-desarrollo-horizontal-o-duplex-o-casa-uso-de-suelo-o-casa-en-condominio-en-venta-en-distrito-federal-pagina-28-q-ciudad-de-mexico.html\n",
      "https://www.inmuebles24.com/casas-o-desarrollo-horizontal-o-duplex-o-casa-uso-de-suelo-o-casa-en-condominio-en-venta-en-distrito-federal-pagina-29-q-ciudad-de-mexico.html\n",
      "https://www.inmuebles24.com/casas-o-desarrollo-horizontal-o-duplex-o-casa-uso-de-suelo-o-casa-en-condominio-en-venta-en-distrito-federal-pagina-30-q-ciudad-de-mexico.html\n",
      "https://www.inmuebles24.com/casas-o-desarrollo-horizontal-o-duplex-o-casa-uso-de-suelo-o-casa-en-condominio-en-venta-en-distrito-federal-pagina-31-q-ciudad-de-mexico.html\n",
      "https://www.inmuebles24.com/casas-o-desarrollo-horizontal-o-duplex-o-casa-uso-de-suelo-o-casa-en-condominio-en-venta-en-distrito-federal-pagina-32-q-ciudad-de-mexico.html\n",
      "https://www.inmuebles24.com/casas-o-desarrollo-horizontal-o-duplex-o-casa-uso-de-suelo-o-casa-en-condominio-en-venta-en-distrito-federal-pagina-33-q-ciudad-de-mexico.html\n",
      "https://www.inmuebles24.com/casas-o-desarrollo-horizontal-o-duplex-o-casa-uso-de-suelo-o-casa-en-condominio-en-venta-en-distrito-federal-pagina-34-q-ciudad-de-mexico.html\n",
      "https://www.inmuebles24.com/casas-o-desarrollo-horizontal-o-duplex-o-casa-uso-de-suelo-o-casa-en-condominio-en-venta-en-distrito-federal-pagina-35-q-ciudad-de-mexico.html\n",
      "https://www.inmuebles24.com/casas-o-desarrollo-horizontal-o-duplex-o-casa-uso-de-suelo-o-casa-en-condominio-en-venta-en-distrito-federal-pagina-36-q-ciudad-de-mexico.html\n",
      "https://www.inmuebles24.com/casas-o-desarrollo-horizontal-o-duplex-o-casa-uso-de-suelo-o-casa-en-condominio-en-venta-en-distrito-federal-pagina-37-q-ciudad-de-mexico.html\n"
     ]
    }
   ],
   "source": [
    "# MULTIPLE PAGES:\n",
    "\n",
    "number_of_results = soup.find(\"h1\", class_ = \"list-result-title\").text.split(\" \")[0]\n",
    "number_of_results = int(number_of_results)\n",
    "\n",
    "total_paging_times = math.ceil(number_of_results/24) + 1\n",
    "total_paging_times\n",
    "\n",
    "for x in range(2,total_paging_times):\n",
    "    url_varias = f'https://www.inmuebles24.com/casas-o-desarrollo-horizontal-o-duplex-o-casa-uso-de-suelo-o-casa-en-condominio-en-venta-en-distrito-federal-pagina-{x}-q-ciudad-de-mexico.html'\n",
    "    print(url_varias)"
   ]
  },
  {
   "cell_type": "markdown",
   "metadata": {},
   "source": [
    "### DEPARTAMENTO QUERY"
   ]
  },
  {
   "cell_type": "code",
   "execution_count": 208,
   "metadata": {},
   "outputs": [
    {
     "data": {
      "text/plain": [
       "'https://www.inmuebles24.com/departamento-compartido-o-departamentos-o-desarrollo-vertical-en-venta-en-distrito-federal-q-ciudad-de-mexico.html'"
      ]
     },
     "execution_count": 208,
     "metadata": {},
     "output_type": "execute_result"
    }
   ],
   "source": [
    "# DEPARTAMENTO QUERY:\n",
    "\n",
    "url = 'https://www.inmuebles24.com/departamento-compartido-o-departamentos-o-desarrollo-vertical-en-venta-en-distrito-federal-q-ciudad-de-mexico.html'\n",
    "url"
   ]
  },
  {
   "cell_type": "code",
   "execution_count": 209,
   "metadata": {},
   "outputs": [
    {
     "name": "stderr",
     "output_type": "stream",
     "text": [
      "[WDM] - Current google-chrome version is 89.0.4389\n",
      "[WDM] - Get LATEST driver version for 89.0.4389\n",
      "[WDM] - Driver [C:\\Users\\Intel NUC\\.wdm\\drivers\\chromedriver\\win32\\89.0.4389.23\\chromedriver.exe] found in cache\n"
     ]
    },
    {
     "name": "stdout",
     "output_type": "stream",
     "text": [
      " \n"
     ]
    }
   ],
   "source": [
    "executable_path = {\"executable_path\": ChromeDriverManager().install()}\n",
    "browser = Browser(\"chrome\", **executable_path, headless=False)\n",
    "\n",
    "\n",
    "browser.visit(url)\n",
    "\n",
    "browser.is_element_not_present_by_id('list-card-container', wait_time=2)\n",
    "\n",
    "html = browser.html\n",
    "\n",
    "soup = bs(html, \"html.parser\")"
   ]
  },
  {
   "cell_type": "code",
   "execution_count": 210,
   "metadata": {},
   "outputs": [
    {
     "data": {
      "text/plain": [
       "24"
      ]
     },
     "execution_count": 210,
     "metadata": {},
     "output_type": "execute_result"
    }
   ],
   "source": [
    "len(soup.find_all(\"div\", class_ = \"postingCard\"))"
   ]
  },
  {
   "cell_type": "code",
   "execution_count": 260,
   "metadata": {},
   "outputs": [
    {
     "data": {
      "text/plain": [
       "[['18 deptos.', '3 rec.', '12 a 66   m²'],\n",
       " ['184 deptos.', '2 rec.', '75 a 169   m²'],\n",
       " ['7 deptos.', '3 rec.', '335   m²'],\n",
       " ['40 deptos.', '2 rec.', '56 a 57   m²'],\n",
       " ['177 deptos.', '1 a 2 rec.', '55 a 84   m²'],\n",
       " ['118 m²', '2 rec.', '2  baños', '2  estac.'],\n",
       " ['123 m²', '4 rec.', '2  baños', '1  estac.'],\n",
       " ['102 m²', '3 rec.', '2  baños', '1  estac.'],\n",
       " ['82 m²', '3 rec.', '2  baños', '2  estac.'],\n",
       " ['90 m²', '2 rec.', '2  baños', '2  estac.'],\n",
       " ['155 m²', '3 rec.', '2  baños', '2  estac.'],\n",
       " ['290 m²', '3 rec.', '3  baños', '3  estac.'],\n",
       " ['103 m²', '3 rec.', '2  baños', '1  estac.'],\n",
       " ['328 m²', '3 rec.', '3  baños', '4  estac.'],\n",
       " ['87 m²', '2 rec.', '2  baños', '2  estac.'],\n",
       " ['41 m²', '2 rec.', '1  baño'],\n",
       " ['25 m²', '2 rec.', '2  baños', '2  estac.'],\n",
       " ['136 m²', '2 rec.', '2  baños', '1  estac.'],\n",
       " ['63 m²', '2 rec.', '2  baños', '1  estac.'],\n",
       " ['47 m²', '1 rec.', '1  baño'],\n",
       " ['192 m²', '3 rec.', '2  baños', '3  estac.'],\n",
       " ['99 m²', '2 rec.', '2  baños', '2  estac.'],\n",
       " ['92 m²', '3 rec.', '2  baños', '2  estac.'],\n",
       " ['55 m²', '2 rec.', '1  baño', '1  estac.']]"
      ]
     },
     "execution_count": 260,
     "metadata": {},
     "output_type": "execute_result"
    }
   ],
   "source": [
    "publications_list = soup.find_all(\"div\", class_ = \"postingCard\")\n",
    "\n",
    "permalink_list = []\n",
    "titles_list = []\n",
    "\n",
    "type_of_operation=[]\n",
    "state=[]\n",
    "city=[]\n",
    "colonia=[]\n",
    "latitude=[]\n",
    "longitude=[]\n",
    "price_list = []\n",
    "currency=[]\n",
    "item_condition = []\n",
    "thumbnail = []\n",
    "property_type=[]\n",
    "# registration_date = []\n",
    "real_state_agency = []\n",
    "announcement_id = []\n",
    "address_street = []\n",
    "bedrooms_number_list = []\n",
    "full_bathrooms = []\n",
    "\n",
    "\n",
    "appartments_features_list = []\n",
    "\n",
    "for x in range(len(publications_list)):\n",
    "    \n",
    "# #   PROPERTY_ID\n",
    "#     property_id = publications_list[x][\"data-id\"]\n",
    "    \n",
    "#     HYPERLINK    \n",
    "    hyperlink = f'https://www.inmuebles24.com{publications_list[x][\"data-to-posting\"]}'\n",
    "    permalink_list.append(hyperlink)\n",
    "\n",
    "#     ------SUB_SOUP-----\n",
    "    \n",
    "    sub_soup = publications_list[x]\n",
    "    \n",
    "#     PROPERTY_TITLE\n",
    "    ad_title = sub_soup.find_all(\"h2\", class_ = \"postingCardTitle\")[0].get_text(strip=True)\n",
    "    titles_list.append(ad_title)\n",
    "    \n",
    "#     PROPERTY PRICE\n",
    "    property_price = sub_soup.find_all(\"span\", class_ = \"firstPrice\")[0].get_text(strip=True).replace('MN ', '').replace(',', '')\n",
    "    price_list.append(property_price)\n",
    "    \n",
    "# #     print(f'id: {property_id} , title: {ad_title} , {hyperlink} , price: {property_price}')\n",
    "    \n",
    "    \n",
    "#     FEATURES LIST:\n",
    "    \n",
    "    inside_list = []\n",
    "    \n",
    "    features_list = sub_soup.find_all(\"ul\", class_ = \"postingCardMainFeatures\")[0].find_all(\"li\")\n",
    "    for j in range(len(features_list)):\n",
    "        feature = features_list[j].get_text(strip = True).replace(\"\\n\", \" \").replace(\"\\t\", \"\")\n",
    "        inside_list.append(feature)\n",
    "        \n",
    "#         BEDROOM NUMBER:\n",
    "\n",
    "        if 'rec.' in feature:\n",
    "            string = feature[0:2]\n",
    "            bedrooms_number_list.append(string)          \n",
    "    \n",
    "    appartments_features_list.append(inside_list)\n",
    "    #     print(test)\n",
    "\n",
    "appartments_features_list"
   ]
  },
  {
   "cell_type": "code",
   "execution_count": 261,
   "metadata": {},
   "outputs": [
    {
     "data": {
      "text/html": [
       "<div>\n",
       "<style scoped>\n",
       "    .dataframe tbody tr th:only-of-type {\n",
       "        vertical-align: middle;\n",
       "    }\n",
       "\n",
       "    .dataframe tbody tr th {\n",
       "        vertical-align: top;\n",
       "    }\n",
       "\n",
       "    .dataframe thead th {\n",
       "        text-align: right;\n",
       "    }\n",
       "</style>\n",
       "<table border=\"1\" class=\"dataframe\">\n",
       "  <thead>\n",
       "    <tr style=\"text-align: right;\">\n",
       "      <th></th>\n",
       "      <th>bedrooms_number</th>\n",
       "    </tr>\n",
       "  </thead>\n",
       "  <tbody>\n",
       "    <tr>\n",
       "      <th>0</th>\n",
       "      <td>3</td>\n",
       "    </tr>\n",
       "    <tr>\n",
       "      <th>1</th>\n",
       "      <td>2</td>\n",
       "    </tr>\n",
       "    <tr>\n",
       "      <th>2</th>\n",
       "      <td>3</td>\n",
       "    </tr>\n",
       "    <tr>\n",
       "      <th>3</th>\n",
       "      <td>2</td>\n",
       "    </tr>\n",
       "    <tr>\n",
       "      <th>4</th>\n",
       "      <td>1</td>\n",
       "    </tr>\n",
       "    <tr>\n",
       "      <th>5</th>\n",
       "      <td>2</td>\n",
       "    </tr>\n",
       "    <tr>\n",
       "      <th>6</th>\n",
       "      <td>4</td>\n",
       "    </tr>\n",
       "    <tr>\n",
       "      <th>7</th>\n",
       "      <td>3</td>\n",
       "    </tr>\n",
       "    <tr>\n",
       "      <th>8</th>\n",
       "      <td>3</td>\n",
       "    </tr>\n",
       "    <tr>\n",
       "      <th>9</th>\n",
       "      <td>2</td>\n",
       "    </tr>\n",
       "    <tr>\n",
       "      <th>10</th>\n",
       "      <td>3</td>\n",
       "    </tr>\n",
       "    <tr>\n",
       "      <th>11</th>\n",
       "      <td>3</td>\n",
       "    </tr>\n",
       "    <tr>\n",
       "      <th>12</th>\n",
       "      <td>3</td>\n",
       "    </tr>\n",
       "    <tr>\n",
       "      <th>13</th>\n",
       "      <td>3</td>\n",
       "    </tr>\n",
       "    <tr>\n",
       "      <th>14</th>\n",
       "      <td>2</td>\n",
       "    </tr>\n",
       "    <tr>\n",
       "      <th>15</th>\n",
       "      <td>2</td>\n",
       "    </tr>\n",
       "    <tr>\n",
       "      <th>16</th>\n",
       "      <td>2</td>\n",
       "    </tr>\n",
       "    <tr>\n",
       "      <th>17</th>\n",
       "      <td>2</td>\n",
       "    </tr>\n",
       "    <tr>\n",
       "      <th>18</th>\n",
       "      <td>2</td>\n",
       "    </tr>\n",
       "    <tr>\n",
       "      <th>19</th>\n",
       "      <td>1</td>\n",
       "    </tr>\n",
       "    <tr>\n",
       "      <th>20</th>\n",
       "      <td>3</td>\n",
       "    </tr>\n",
       "    <tr>\n",
       "      <th>21</th>\n",
       "      <td>2</td>\n",
       "    </tr>\n",
       "    <tr>\n",
       "      <th>22</th>\n",
       "      <td>3</td>\n",
       "    </tr>\n",
       "    <tr>\n",
       "      <th>23</th>\n",
       "      <td>2</td>\n",
       "    </tr>\n",
       "  </tbody>\n",
       "</table>\n",
       "</div>"
      ],
      "text/plain": [
       "   bedrooms_number\n",
       "0               3 \n",
       "1               2 \n",
       "2               3 \n",
       "3               2 \n",
       "4               1 \n",
       "5               2 \n",
       "6               4 \n",
       "7               3 \n",
       "8               3 \n",
       "9               2 \n",
       "10              3 \n",
       "11              3 \n",
       "12              3 \n",
       "13              3 \n",
       "14              2 \n",
       "15              2 \n",
       "16              2 \n",
       "17              2 \n",
       "18              2 \n",
       "19              1 \n",
       "20              3 \n",
       "21              2 \n",
       "22              3 \n",
       "23              2 "
      ]
     },
     "execution_count": 261,
     "metadata": {},
     "output_type": "execute_result"
    }
   ],
   "source": [
    "pd.DataFrame({\n",
    "    \"bedrooms_number\" : bedrooms_number_list\n",
    "})"
   ]
  },
  {
   "cell_type": "code",
   "execution_count": 212,
   "metadata": {},
   "outputs": [
    {
     "data": {
      "text/plain": [
       "[<li>\n",
       " <i class=\"postingCardIconsFeatures iconUnits\"></i>\n",
       " \t\t\t\t\t\t6\n",
       " \t\t\t\t\t\tdeptos.\n",
       " \t\t\t\t\t</li>,\n",
       " <li>\n",
       " <i class=\"postingCardIconsFeatures iconBedrooms\"></i>\n",
       " \t\t\t\t\t\t\n",
       " \t\t\t\t\t\t\t3 a 4 rec.\n",
       " \t\t\t\t\t\t\n",
       " \t\t\t\t\t</li>,\n",
       " <li>\n",
       " <i class=\"postingCardIconsFeatures iconArea\"></i>\n",
       " \t\t\t\t\t\t\n",
       " \t\t\t\t\t\t\t189 a 208 \n",
       " \t\t\t\t\t\t\n",
       " \t\t\t\t\t\tm²\n",
       " \t\t\t\t\t</li>]"
      ]
     },
     "execution_count": 212,
     "metadata": {},
     "output_type": "execute_result"
    }
   ],
   "source": [
    "features_list"
   ]
  },
  {
   "cell_type": "code",
   "execution_count": 181,
   "metadata": {},
   "outputs": [
    {
     "data": {
      "text/plain": [
       "['6 deptos.', '3 a 4 rec.', '189 a 208   m²']"
      ]
     },
     "execution_count": 181,
     "metadata": {},
     "output_type": "execute_result"
    }
   ],
   "source": [
    "features_list = sub_soup.find_all(\"ul\", class_ = \"postingCardMainFeatures\")[0].find_all(\"li\")\n",
    "\n",
    "additional_list = []\n",
    "\n",
    "for x in range(len(features_list)):\n",
    "    test = features_list[x].get_text(strip = True).replace(\"\\n\", \" \").replace(\"\\t\", \"\")\n",
    "    additional_list.append(test)\n",
    "#     print(test)\n",
    "\n",
    "additional_list"
   ]
  },
  {
   "cell_type": "markdown",
   "metadata": {},
   "source": [
    "## Scrape of each webpage"
   ]
  },
  {
   "cell_type": "code",
   "execution_count": 221,
   "metadata": {},
   "outputs": [],
   "source": [
    "# THIS SHOULD BE OBTAINED FROM EACH PAGES' WEBSITE:\n",
    "\n",
    "square_meters_list = []\n",
    "unit_list = []\n",
    "\n",
    "if 'm²' in feature:\n",
    "    square_meters_list.append(feature.replace(\"m²\", \"\"))\n",
    "    unit_list.append('m²') "
   ]
  },
  {
   "cell_type": "code",
   "execution_count": 116,
   "metadata": {},
   "outputs": [
    {
     "name": "stdout",
     "output_type": "stream",
     "text": [
      "https://www.inmuebles24.com/propiedades/bosque-6060-52913725.html\n",
      "19.331155400000000 -99.256939199999980\n",
      "https://www.inmuebles24.com/propiedades/sky-tower-lindavista-54456938.html\n",
      "19.481846100000000 -99.129833500000020\n",
      "https://www.inmuebles24.com/propiedades/ultimo-departamento-departamento-en-venta-tlalpan-55534814.html\n",
      "19.279131400000000 -99.140570900000000\n"
     ]
    }
   ],
   "source": [
    "import time\n",
    "\n",
    "image_details_coordinates_list = []\n",
    "latitud_list = []\n",
    "longitud_list = []\n",
    "\n",
    "count_number = 0\n",
    "\n",
    "for x in range(3):\n",
    "    \n",
    "    count_number += 1\n",
    "\n",
    "    url = hyperlink_list[x]\n",
    "\n",
    "    browser.visit(url)\n",
    "\n",
    "    time.sleep(1)\n",
    "\n",
    "    html = browser.html\n",
    "\n",
    "    soup = bs(html, \"html.parser\")\n",
    "    map_image = soup.find('div', class_ = 'article-map')\n",
    "\n",
    "    image_details = map_image.img['src'].split(\"&\")\n",
    "\n",
    "    print(hyperlink_list[x])\n",
    "    \n",
    "    for x in range(len(image_details)):\n",
    "        if 'markers' in image_details[x]:\n",
    "            image_details_coordinates = image_details[x].replace('markers=', '').split(\",\")\n",
    "            image_details_coordinates_list.append(image_details_coordinates)\n",
    "            \n",
    "            latitud = image_details_coordinates[0]\n",
    "            longitud = image_details_coordinates[1]            \n",
    "            latitud_list.append(latitud)\n",
    "            longitud_list.append(longitud)\n",
    "                        \n",
    "    if len(image_details_coordinates_list) != count_number:\n",
    "        for x in range(len(image_details)):\n",
    "            if 'center' in image_details[x]:\n",
    "                image_details_coordinates = image_details[x].replace('center=', '').split(\",\")\n",
    "                image_details_coordinates_list.append(image_details_coordinates)\n",
    "\n",
    "                latitud = image_details_coordinates[0].split(\"?\")[1]\n",
    "                longitud = image_details_coordinates[1]            \n",
    "                latitud_list.append(latitud)\n",
    "                longitud_list.append(longitud)\n",
    "\n",
    "    print(latitud, longitud)"
   ]
  },
  {
   "cell_type": "code",
   "execution_count": 126,
   "metadata": {},
   "outputs": [],
   "source": [
    "browser.quit()"
   ]
  }
 ],
 "metadata": {
  "kernelspec": {
   "display_name": "Python 3",
   "language": "python",
   "name": "python3"
  },
  "language_info": {
   "codemirror_mode": {
    "name": "ipython",
    "version": 3
   },
   "file_extension": ".py",
   "mimetype": "text/x-python",
   "name": "python",
   "nbconvert_exporter": "python",
   "pygments_lexer": "ipython3",
   "version": "3.8.3"
  }
 },
 "nbformat": 4,
 "nbformat_minor": 4
}
