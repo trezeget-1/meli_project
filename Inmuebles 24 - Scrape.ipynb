{
 "cells": [
  {
   "cell_type": "code",
   "execution_count": 4,
   "metadata": {},
   "outputs": [],
   "source": [
    "from splinter import Browser\n",
    "from bs4 import BeautifulSoup as bs\n",
    "from webdriver_manager.chrome import ChromeDriverManager\n",
    "import time"
   ]
  },
  {
   "cell_type": "markdown",
   "metadata": {},
   "source": [
    "### CASA QUERY"
   ]
  },
  {
   "cell_type": "code",
   "execution_count": 140,
   "metadata": {},
   "outputs": [
    {
     "data": {
      "text/plain": [
       "'https://www.inmuebles24.com/casas-o-duplex-o-casa-en-condominio-o-casa-uso-de-suelo-o-desarrollo-horizontal-en-venta-en-distrito-federal-q-ciudad-de-mexico.html'"
      ]
     },
     "execution_count": 140,
     "metadata": {},
     "output_type": "execute_result"
    }
   ],
   "source": [
    "# CASA QUERY:\n",
    "\n",
    "url = 'https://www.inmuebles24.com/casas-o-duplex-o-casa-en-condominio-o-casa-uso-de-suelo-o-desarrollo-horizontal-en-venta-en-distrito-federal-q-ciudad-de-mexico.html'\n",
    "url"
   ]
  },
  {
   "cell_type": "code",
   "execution_count": 183,
   "metadata": {},
   "outputs": [
    {
     "name": "stdout",
     "output_type": "stream",
     "text": [
      "https://www.inmuebles24.com/casas-o-desarrollo-horizontal-o-duplex-o-casa-uso-de-suelo-o-casa-en-condominio-en-venta-en-distrito-federal-pagina-2-q-ciudad-de-mexico.html\n",
      "https://www.inmuebles24.com/casas-o-desarrollo-horizontal-o-duplex-o-casa-uso-de-suelo-o-casa-en-condominio-en-venta-en-distrito-federal-pagina-3-q-ciudad-de-mexico.html\n",
      "https://www.inmuebles24.com/casas-o-desarrollo-horizontal-o-duplex-o-casa-uso-de-suelo-o-casa-en-condominio-en-venta-en-distrito-federal-pagina-4-q-ciudad-de-mexico.html\n",
      "https://www.inmuebles24.com/casas-o-desarrollo-horizontal-o-duplex-o-casa-uso-de-suelo-o-casa-en-condominio-en-venta-en-distrito-federal-pagina-5-q-ciudad-de-mexico.html\n",
      "https://www.inmuebles24.com/casas-o-desarrollo-horizontal-o-duplex-o-casa-uso-de-suelo-o-casa-en-condominio-en-venta-en-distrito-federal-pagina-6-q-ciudad-de-mexico.html\n",
      "https://www.inmuebles24.com/casas-o-desarrollo-horizontal-o-duplex-o-casa-uso-de-suelo-o-casa-en-condominio-en-venta-en-distrito-federal-pagina-7-q-ciudad-de-mexico.html\n",
      "https://www.inmuebles24.com/casas-o-desarrollo-horizontal-o-duplex-o-casa-uso-de-suelo-o-casa-en-condominio-en-venta-en-distrito-federal-pagina-8-q-ciudad-de-mexico.html\n",
      "https://www.inmuebles24.com/casas-o-desarrollo-horizontal-o-duplex-o-casa-uso-de-suelo-o-casa-en-condominio-en-venta-en-distrito-federal-pagina-9-q-ciudad-de-mexico.html\n",
      "https://www.inmuebles24.com/casas-o-desarrollo-horizontal-o-duplex-o-casa-uso-de-suelo-o-casa-en-condominio-en-venta-en-distrito-federal-pagina-10-q-ciudad-de-mexico.html\n",
      "https://www.inmuebles24.com/casas-o-desarrollo-horizontal-o-duplex-o-casa-uso-de-suelo-o-casa-en-condominio-en-venta-en-distrito-federal-pagina-11-q-ciudad-de-mexico.html\n",
      "https://www.inmuebles24.com/casas-o-desarrollo-horizontal-o-duplex-o-casa-uso-de-suelo-o-casa-en-condominio-en-venta-en-distrito-federal-pagina-12-q-ciudad-de-mexico.html\n",
      "https://www.inmuebles24.com/casas-o-desarrollo-horizontal-o-duplex-o-casa-uso-de-suelo-o-casa-en-condominio-en-venta-en-distrito-federal-pagina-13-q-ciudad-de-mexico.html\n",
      "https://www.inmuebles24.com/casas-o-desarrollo-horizontal-o-duplex-o-casa-uso-de-suelo-o-casa-en-condominio-en-venta-en-distrito-federal-pagina-14-q-ciudad-de-mexico.html\n",
      "https://www.inmuebles24.com/casas-o-desarrollo-horizontal-o-duplex-o-casa-uso-de-suelo-o-casa-en-condominio-en-venta-en-distrito-federal-pagina-15-q-ciudad-de-mexico.html\n",
      "https://www.inmuebles24.com/casas-o-desarrollo-horizontal-o-duplex-o-casa-uso-de-suelo-o-casa-en-condominio-en-venta-en-distrito-federal-pagina-16-q-ciudad-de-mexico.html\n",
      "https://www.inmuebles24.com/casas-o-desarrollo-horizontal-o-duplex-o-casa-uso-de-suelo-o-casa-en-condominio-en-venta-en-distrito-federal-pagina-17-q-ciudad-de-mexico.html\n",
      "https://www.inmuebles24.com/casas-o-desarrollo-horizontal-o-duplex-o-casa-uso-de-suelo-o-casa-en-condominio-en-venta-en-distrito-federal-pagina-18-q-ciudad-de-mexico.html\n",
      "https://www.inmuebles24.com/casas-o-desarrollo-horizontal-o-duplex-o-casa-uso-de-suelo-o-casa-en-condominio-en-venta-en-distrito-federal-pagina-19-q-ciudad-de-mexico.html\n",
      "https://www.inmuebles24.com/casas-o-desarrollo-horizontal-o-duplex-o-casa-uso-de-suelo-o-casa-en-condominio-en-venta-en-distrito-federal-pagina-20-q-ciudad-de-mexico.html\n",
      "https://www.inmuebles24.com/casas-o-desarrollo-horizontal-o-duplex-o-casa-uso-de-suelo-o-casa-en-condominio-en-venta-en-distrito-federal-pagina-21-q-ciudad-de-mexico.html\n",
      "https://www.inmuebles24.com/casas-o-desarrollo-horizontal-o-duplex-o-casa-uso-de-suelo-o-casa-en-condominio-en-venta-en-distrito-federal-pagina-22-q-ciudad-de-mexico.html\n",
      "https://www.inmuebles24.com/casas-o-desarrollo-horizontal-o-duplex-o-casa-uso-de-suelo-o-casa-en-condominio-en-venta-en-distrito-federal-pagina-23-q-ciudad-de-mexico.html\n",
      "https://www.inmuebles24.com/casas-o-desarrollo-horizontal-o-duplex-o-casa-uso-de-suelo-o-casa-en-condominio-en-venta-en-distrito-federal-pagina-24-q-ciudad-de-mexico.html\n",
      "https://www.inmuebles24.com/casas-o-desarrollo-horizontal-o-duplex-o-casa-uso-de-suelo-o-casa-en-condominio-en-venta-en-distrito-federal-pagina-25-q-ciudad-de-mexico.html\n",
      "https://www.inmuebles24.com/casas-o-desarrollo-horizontal-o-duplex-o-casa-uso-de-suelo-o-casa-en-condominio-en-venta-en-distrito-federal-pagina-26-q-ciudad-de-mexico.html\n",
      "https://www.inmuebles24.com/casas-o-desarrollo-horizontal-o-duplex-o-casa-uso-de-suelo-o-casa-en-condominio-en-venta-en-distrito-federal-pagina-27-q-ciudad-de-mexico.html\n",
      "https://www.inmuebles24.com/casas-o-desarrollo-horizontal-o-duplex-o-casa-uso-de-suelo-o-casa-en-condominio-en-venta-en-distrito-federal-pagina-28-q-ciudad-de-mexico.html\n",
      "https://www.inmuebles24.com/casas-o-desarrollo-horizontal-o-duplex-o-casa-uso-de-suelo-o-casa-en-condominio-en-venta-en-distrito-federal-pagina-29-q-ciudad-de-mexico.html\n",
      "https://www.inmuebles24.com/casas-o-desarrollo-horizontal-o-duplex-o-casa-uso-de-suelo-o-casa-en-condominio-en-venta-en-distrito-federal-pagina-30-q-ciudad-de-mexico.html\n",
      "https://www.inmuebles24.com/casas-o-desarrollo-horizontal-o-duplex-o-casa-uso-de-suelo-o-casa-en-condominio-en-venta-en-distrito-federal-pagina-31-q-ciudad-de-mexico.html\n",
      "https://www.inmuebles24.com/casas-o-desarrollo-horizontal-o-duplex-o-casa-uso-de-suelo-o-casa-en-condominio-en-venta-en-distrito-federal-pagina-32-q-ciudad-de-mexico.html\n",
      "https://www.inmuebles24.com/casas-o-desarrollo-horizontal-o-duplex-o-casa-uso-de-suelo-o-casa-en-condominio-en-venta-en-distrito-federal-pagina-33-q-ciudad-de-mexico.html\n",
      "https://www.inmuebles24.com/casas-o-desarrollo-horizontal-o-duplex-o-casa-uso-de-suelo-o-casa-en-condominio-en-venta-en-distrito-federal-pagina-34-q-ciudad-de-mexico.html\n",
      "https://www.inmuebles24.com/casas-o-desarrollo-horizontal-o-duplex-o-casa-uso-de-suelo-o-casa-en-condominio-en-venta-en-distrito-federal-pagina-35-q-ciudad-de-mexico.html\n",
      "https://www.inmuebles24.com/casas-o-desarrollo-horizontal-o-duplex-o-casa-uso-de-suelo-o-casa-en-condominio-en-venta-en-distrito-federal-pagina-36-q-ciudad-de-mexico.html\n",
      "https://www.inmuebles24.com/casas-o-desarrollo-horizontal-o-duplex-o-casa-uso-de-suelo-o-casa-en-condominio-en-venta-en-distrito-federal-pagina-37-q-ciudad-de-mexico.html\n"
     ]
    }
   ],
   "source": [
    "# MULTIPLE PAGES:\n",
    "\n",
    "for x in range(2,38):\n",
    "    url_varias = f'https://www.inmuebles24.com/casas-o-desarrollo-horizontal-o-duplex-o-casa-uso-de-suelo-o-casa-en-condominio-en-venta-en-distrito-federal-pagina-{x}-q-ciudad-de-mexico.html'\n",
    "    print(url_varias)"
   ]
  },
  {
   "cell_type": "markdown",
   "metadata": {},
   "source": [
    "### DEPARTAMENTO QUERY"
   ]
  },
  {
   "cell_type": "code",
   "execution_count": 141,
   "metadata": {},
   "outputs": [
    {
     "data": {
      "text/plain": [
       "'https://www.inmuebles24.com/departamento-compartido-o-departamentos-o-desarrollo-vertical-en-venta-en-distrito-federal-q-ciudad-de-mexico.html'"
      ]
     },
     "execution_count": 141,
     "metadata": {},
     "output_type": "execute_result"
    }
   ],
   "source": [
    "# DEPARTAMENTO QUERY:\n",
    "\n",
    "url = 'https://www.inmuebles24.com/departamento-compartido-o-departamentos-o-desarrollo-vertical-en-venta-en-distrito-federal-q-ciudad-de-mexico.html'\n",
    "url"
   ]
  },
  {
   "cell_type": "code",
   "execution_count": 136,
   "metadata": {},
   "outputs": [
    {
     "name": "stderr",
     "output_type": "stream",
     "text": [
      "[WDM] - Current google-chrome version is 89.0.4389\n",
      "[WDM] - Get LATEST driver version for 89.0.4389\n",
      "[WDM] - Driver [C:\\Users\\Intel NUC\\.wdm\\drivers\\chromedriver\\win32\\89.0.4389.23\\chromedriver.exe] found in cache\n"
     ]
    },
    {
     "name": "stdout",
     "output_type": "stream",
     "text": [
      " \n"
     ]
    }
   ],
   "source": [
    "executable_path = {\"executable_path\": ChromeDriverManager().install()}\n",
    "browser = Browser(\"chrome\", **executable_path, headless=False)\n",
    "\n",
    "\n",
    "browser.visit(url)\n",
    "\n",
    "browser.is_element_not_present_by_id('list-card-container', wait_time=2)\n",
    "\n",
    "html = browser.html\n",
    "\n",
    "soup = bs(html, \"html.parser\")"
   ]
  },
  {
   "cell_type": "code",
   "execution_count": 137,
   "metadata": {},
   "outputs": [
    {
     "data": {
      "text/plain": [
       "24"
      ]
     },
     "execution_count": 137,
     "metadata": {},
     "output_type": "execute_result"
    }
   ],
   "source": [
    "len(soup.find_all(\"div\", class_ = \"postingCard\"))"
   ]
  },
  {
   "cell_type": "code",
   "execution_count": 181,
   "metadata": {},
   "outputs": [
    {
     "data": {
      "text/plain": [
       "['6 deptos.', '3 a 4 rec.', '189 a 208   m²']"
      ]
     },
     "execution_count": 181,
     "metadata": {},
     "output_type": "execute_result"
    }
   ],
   "source": [
    "features_list = sub_soup.find_all(\"ul\", class_ = \"postingCardMainFeatures\")[0].find_all(\"li\")\n",
    "\n",
    "additional_list = []\n",
    "\n",
    "for x in range(len(features_list)):\n",
    "    test = features_list[x].get_text(strip = True).replace(\"\\n\", \" \").replace(\"\\t\", \"\")\n",
    "    additional_list.append(test)\n",
    "#     print(test)\n",
    "\n",
    "additional_list"
   ]
  },
  {
   "cell_type": "code",
   "execution_count": 189,
   "metadata": {},
   "outputs": [
    {
     "data": {
      "text/plain": [
       "'871'"
      ]
     },
     "execution_count": 189,
     "metadata": {},
     "output_type": "execute_result"
    }
   ],
   "source": [
    "number_of_results = soup.find(\"h1\", class_ = \"list-result-title\").text.split(\" \")[0]\n",
    "number_of_results"
   ]
  },
  {
   "cell_type": "code",
   "execution_count": 138,
   "metadata": {},
   "outputs": [
    {
     "name": "stdout",
     "output_type": "stream",
     "text": [
      "id: 59085247 , title: Cossio 833 , https://www.inmuebles24.com/propiedades/cossio-833-59085247.html , price: 11602530\n",
      "id: 60459427 , title: Casa en Condominio en Lomas Hidalgo, Tlalpan, Ciudad de México , https://www.inmuebles24.com/propiedades/casa-en-condominio-en-lomas-hidalgo-tlalpan-ciudad-60459427.html , price: 4629000\n",
      "id: 60924386 , title: Venta Casa Pedregal, Álvaro Obregón, Ciudad de México , https://www.inmuebles24.com/propiedades/venta-casa-pedregal-alvaro-obregon-ciudad-de-mexico-60924386.html , price: 32900000\n",
      "id: 60895016 , title: Magnífica Casa en Una de Las Mejores Colonias de La Ciudad de México , https://www.inmuebles24.com/propiedades/magnifica-casa-en-una-de-las-mejores-colonias-de-la-60895016.html , price: USD 5500000\n",
      "id: 55875877 , title: Vendo Casa en Lomas de Chapultepec Ciudad de México , https://www.inmuebles24.com/propiedades/vendo-casa-en-lomas-de-chapultepec-ciudad-de-mexico-55875877.html , price: 61400000\n",
      "id: 59712976 , title: Residencia en Venta, del Carmen, Coyoacán, Ciudad de México , https://www.inmuebles24.com/propiedades/residencia-en-venta-del-carmen-coyoacan-ciudad-de-59712976.html , price: 15180000\n",
      "id: 59677981 , title: Casa en Condominio en Venta, un Oasis en La del Valle. , https://www.inmuebles24.com/propiedades/casa-en-condominio-en-venta-un-oasis-en-la-del-valle.-59677981.html , price: 11950000\n",
      "id: 60426612 , title: Casa en Venta en Cuajimalpa , https://www.inmuebles24.com/propiedades/casa-en-venta-en-cuajimalpa-60426612.html , price: 7100000\n",
      "id: 60264102 , title: Hermosa Casa en Venta en Cuajimalpa , https://www.inmuebles24.com/propiedades/hermosa-casa-en-venta-en-cuajimalpa-60264102.html , price: 11900000\n",
      "id: 60219412 , title: Casa en Venta en Miguel Hidalgo , https://www.inmuebles24.com/propiedades/casa-en-venta-en-miguel-hidalgo-60219412.html , price: 2400000\n",
      "id: 58133740 , title: Casa en Condominio en Venta en Portales , https://www.inmuebles24.com/propiedades/casa-en-condominio-en-venta-en-portales-58133740.html , price: 2350000\n",
      "id: 60479754 , title: Hermoso Townhouse , https://www.inmuebles24.com/propiedades/hermoso-townhouse-60479754.html , price: 4000000\n",
      "id: 59823425 , title: Preciosa Casa en Condominio en Venta en San Pedro Mártir , https://www.inmuebles24.com/propiedades/preciosa-casa-en-condominio-en-venta-en-san-pedro-59823425.html , price: 9500000\n",
      "id: 59598685 , title: Casa en Venta en Coyoacán , https://www.inmuebles24.com/propiedades/casa-en-venta-en-coyoacan-59598685.html , price: 39000000\n",
      "id: 58491300 , title: Casa en Condominio en Toriello Guerra , https://www.inmuebles24.com/propiedades/casa-en-condominio-en-toriello-guerra-58491300.html , price: 9862677\n",
      "id: 55392439 , title: Casa en Venta en Bosques de Las Lomas en Terreno Plano , https://www.inmuebles24.com/propiedades/casa-en-venta-en-bosques-de-las-lomas-en-terreno-plano-55392439.html , price: 18900000\n",
      "id: 59636582 , title: Hermosa Casa en Condominio en Venta en Tlacopac , https://www.inmuebles24.com/propiedades/hermosa-casa-en-condominio-en-venta-en-tlacopac-59636582.html , price: 9300000\n",
      "id: 59393813 , title: Casa en Condominio , https://www.inmuebles24.com/propiedades/casa-en-condominio-59393813.html , price: 7700000\n",
      "id: 60485867 , title: Casa en Venta en Bosque de Las Lomas , https://www.inmuebles24.com/propiedades/casa-en-venta-en-bosque-de-las-lomas-60485867.html , price: 38350000\n",
      "id: 59994233 , title: Casa Recientemente Remodelada, Nueva Lista Para Usar, con Roof Garden Equipado. , https://www.inmuebles24.com/propiedades/casa-recientemente-remodelada-nueva-lista-para-usar-59994233.html , price: 3500000\n",
      "id: 57719804 , title: Excelente Casa Tipo \"Chalet\" en Condominio Ubicado en Tepepan , https://www.inmuebles24.com/propiedades/excelente-casa-tipo-chalet-en-condominio-ubicado-en-57719804.html , price: 4800000\n",
      "id: 60806193 , title: Casa en Venta en Cuajimalpa , https://www.inmuebles24.com/propiedades/casa-en-venta-en-cuajimalpa-60806193.html , price: 6200000\n",
      "id: 59462615 , title: Casa en Venta en Las Campañas, Ciudad de México, Cdmx , https://www.inmuebles24.com/propiedades/casa-en-venta-en-las-campanas-ciudad-de-mexico-cdmx-59462615.html , price: 9600000\n",
      "id: 60827685 , title: Casa en Venta Ubicada en Tizapán, Álvaro Obregón, Ciudad de México , https://www.inmuebles24.com/propiedades/casa-en-venta-ubicada-en-tizapan-alvaro-obregon-60827685.html , price: 8000000\n"
     ]
    }
   ],
   "source": [
    "publications_list = soup.find_all(\"div\", class_ = \"postingCard\")\n",
    "\n",
    "hyperlink_list = []\n",
    "\n",
    "\n",
    "\n",
    "for x in range(len(publications_list)):\n",
    "    \n",
    "    property_id = publications_list[x][\"data-id\"]\n",
    "    \n",
    "    hyperlink = f'https://www.inmuebles24.com{publications_list[x][\"data-to-posting\"]}'\n",
    "    \n",
    "    hyperlink_list.append(hyperlink)\n",
    "\n",
    "#     SUB_SOUP\n",
    "    \n",
    "    sub_soup = publications_list[x]\n",
    "    \n",
    "    ad_title = sub_soup.find_all(\"h2\", class_ = \"postingCardTitle\")[0].get_text(strip=True)\n",
    "    \n",
    "    property_price = sub_soup.find_all(\"span\", class_ = \"firstPrice\")[0].get_text(strip=True).replace('MN ', '').replace(',', '')\n",
    "    \n",
    "    print(f'id: {property_id} , title: {ad_title} , {hyperlink} , price: {property_price}')"
   ]
  },
  {
   "cell_type": "code",
   "execution_count": 68,
   "metadata": {},
   "outputs": [
    {
     "data": {
      "text/plain": [
       "'https://www.inmuebles24.com/propiedades/bosque-6060-52913725.html'"
      ]
     },
     "execution_count": 68,
     "metadata": {},
     "output_type": "execute_result"
    }
   ],
   "source": [
    "test_property_hyperlink = f'https://www.inmuebles24.com{publications_list[0][\"data-to-posting\"]}'\n",
    "test_property_hyperlink"
   ]
  },
  {
   "cell_type": "markdown",
   "metadata": {},
   "source": [
    "## Scrape of each webpage"
   ]
  },
  {
   "cell_type": "code",
   "execution_count": 116,
   "metadata": {},
   "outputs": [
    {
     "name": "stdout",
     "output_type": "stream",
     "text": [
      "https://www.inmuebles24.com/propiedades/bosque-6060-52913725.html\n",
      "19.331155400000000 -99.256939199999980\n",
      "https://www.inmuebles24.com/propiedades/sky-tower-lindavista-54456938.html\n",
      "19.481846100000000 -99.129833500000020\n",
      "https://www.inmuebles24.com/propiedades/ultimo-departamento-departamento-en-venta-tlalpan-55534814.html\n",
      "19.279131400000000 -99.140570900000000\n"
     ]
    }
   ],
   "source": [
    "import time\n",
    "\n",
    "image_details_coordinates_list = []\n",
    "latitud_list = []\n",
    "longitud_list = []\n",
    "\n",
    "count_number = 0\n",
    "\n",
    "for x in range(3):\n",
    "    \n",
    "    count_number += 1\n",
    "\n",
    "    url = hyperlink_list[x]\n",
    "\n",
    "    browser.visit(url)\n",
    "\n",
    "    time.sleep(1)\n",
    "\n",
    "    html = browser.html\n",
    "\n",
    "    soup = bs(html, \"html.parser\")\n",
    "    map_image = soup.find('div', class_ = 'article-map')\n",
    "\n",
    "    image_details = map_image.img['src'].split(\"&\")\n",
    "\n",
    "    print(hyperlink_list[x])\n",
    "    \n",
    "    for x in range(len(image_details)):\n",
    "        if 'markers' in image_details[x]:\n",
    "            image_details_coordinates = image_details[x].replace('markers=', '').split(\",\")\n",
    "            image_details_coordinates_list.append(image_details_coordinates)\n",
    "            \n",
    "            latitud = image_details_coordinates[0]\n",
    "            longitud = image_details_coordinates[1]            \n",
    "            latitud_list.append(latitud)\n",
    "            longitud_list.append(longitud)\n",
    "                        \n",
    "    if len(image_details_coordinates_list) != count_number:\n",
    "        for x in range(len(image_details)):\n",
    "            if 'center' in image_details[x]:\n",
    "                image_details_coordinates = image_details[x].replace('center=', '').split(\",\")\n",
    "                image_details_coordinates_list.append(image_details_coordinates)\n",
    "\n",
    "                latitud = image_details_coordinates[0].split(\"?\")[1]\n",
    "                longitud = image_details_coordinates[1]            \n",
    "                latitud_list.append(latitud)\n",
    "                longitud_list.append(longitud)\n",
    "\n",
    "    print(latitud, longitud)"
   ]
  },
  {
   "cell_type": "code",
   "execution_count": 126,
   "metadata": {},
   "outputs": [],
   "source": [
    "browser.quit()"
   ]
  }
 ],
 "metadata": {
  "kernelspec": {
   "display_name": "Python 3",
   "language": "python",
   "name": "python3"
  },
  "language_info": {
   "codemirror_mode": {
    "name": "ipython",
    "version": 3
   },
   "file_extension": ".py",
   "mimetype": "text/x-python",
   "name": "python",
   "nbconvert_exporter": "python",
   "pygments_lexer": "ipython3",
   "version": "3.8.3"
  }
 },
 "nbformat": 4,
 "nbformat_minor": 4
}
